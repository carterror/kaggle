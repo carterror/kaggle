{
 "cells": [
  {
   "cell_type": "markdown",
   "id": "b652f661",
   "metadata": {
    "papermill": {
     "duration": 0.008643,
     "end_time": "2024-05-10T16:47:05.707831",
     "exception": false,
     "start_time": "2024-05-10T16:47:05.699188",
     "status": "completed"
    },
    "tags": []
   },
   "source": [
    "**This notebook is an exercise in the [Intro to Programming](https://www.kaggle.com/learn/intro-to-programming) course.  You can reference the tutorial at [this link](https://www.kaggle.com/alexisbcook/functions).**\n",
    "\n",
    "---\n"
   ]
  },
  {
   "cell_type": "markdown",
   "id": "fbdc2292",
   "metadata": {
    "papermill": {
     "duration": 0.007598,
     "end_time": "2024-05-10T16:47:05.723539",
     "exception": false,
     "start_time": "2024-05-10T16:47:05.715941",
     "status": "completed"
    },
    "tags": []
   },
   "source": [
    "In the tutorial, you learned about functions. In this exercise, you'll write some of your own!\n",
    "\n",
    "# Set up the notebook\n",
    "\n",
    "Run the next code cell without changes to set up the notebook."
   ]
  },
  {
   "cell_type": "code",
   "execution_count": 1,
   "id": "a665e39f",
   "metadata": {
    "execution": {
     "iopub.execute_input": "2024-05-10T16:47:05.742843Z",
     "iopub.status.busy": "2024-05-10T16:47:05.741282Z",
     "iopub.status.idle": "2024-05-10T16:47:06.849831Z",
     "shell.execute_reply": "2024-05-10T16:47:06.848002Z"
    },
    "papermill": {
     "duration": 1.121755,
     "end_time": "2024-05-10T16:47:06.853295",
     "exception": false,
     "start_time": "2024-05-10T16:47:05.731540",
     "status": "completed"
    },
    "tags": []
   },
   "outputs": [
    {
     "name": "stdout",
     "output_type": "stream",
     "text": [
      "Setup complete.\n"
     ]
    }
   ],
   "source": [
    "# Set up the exercise\n",
    "import math\n",
    "from learntools.core import binder\n",
    "binder.bind(globals())\n",
    "from learntools.intro_to_programming.ex2 import *\n",
    "print('Setup complete.')"
   ]
  },
  {
   "cell_type": "markdown",
   "id": "3ceb8e78",
   "metadata": {
    "papermill": {
     "duration": 0.007835,
     "end_time": "2024-05-10T16:47:06.869911",
     "exception": false,
     "start_time": "2024-05-10T16:47:06.862076",
     "status": "completed"
    },
    "tags": []
   },
   "source": [
    "# Question 1\n",
    "\n",
    "In the [House Prices - Advanced Regression Techniques competition](https://www.kaggle.com/c/house-prices-advanced-regression-techniques/overview), you need to use information like the number of bedrooms and bathrooms to predict the price of a house.  Inspired by this competition, you'll write your own function to do this.\n",
    "\n",
    "In the next code cell, create a function `get_expected_cost()` that has two arguments:\n",
    "- `beds` - number of bedrooms \n",
    "- `baths` - number of bathrooms\n",
    "\n",
    "It should return the expected cost of a house with that number of bedrooms and bathrooms.  Assume that:\n",
    "- the expected cost for a house with 0 bedrooms and 0 bathrooms is `80000`.  \n",
    "- each bedroom adds `30000` to the expected cost\n",
    "- each bathroom adds `10000` to the expected cost.\n",
    "\n",
    "For instance, \n",
    "- a house with 1 bedroom and 1 bathroom has an expected cost of `120000`, and \n",
    "- a house with 2 bedrooms and 1 bathroom has an expected cost of `150000`."
   ]
  },
  {
   "cell_type": "code",
   "execution_count": 2,
   "id": "3e226440",
   "metadata": {
    "execution": {
     "iopub.execute_input": "2024-05-10T16:47:06.888694Z",
     "iopub.status.busy": "2024-05-10T16:47:06.888064Z",
     "iopub.status.idle": "2024-05-10T16:47:06.900495Z",
     "shell.execute_reply": "2024-05-10T16:47:06.899312Z"
    },
    "papermill": {
     "duration": 0.024949,
     "end_time": "2024-05-10T16:47:06.902940",
     "exception": false,
     "start_time": "2024-05-10T16:47:06.877991",
     "status": "completed"
    },
    "tags": []
   },
   "outputs": [
    {
     "data": {
      "application/javascript": [
       "parent.postMessage({\"jupyterEvent\": \"custom.exercise_interaction\", \"data\": {\"outcomeType\": 2, \"failureMessage\": \"Expected return value of `80000` given `beds=0`, `baths=0`, but got `<learntools.core.constants.PlaceholderValue object at 0x79b0c8a0d930>` instead.\", \"interactionType\": 1, \"questionType\": 2, \"questionId\": \"1_GetExpectedCost\", \"learnToolsVersion\": \"0.3.4\", \"valueTowardsCompletion\": 0.0, \"exceptionClass\": \"\", \"trace\": \"\"}}, \"*\")"
      ],
      "text/plain": [
       "<IPython.core.display.Javascript object>"
      ]
     },
     "metadata": {},
     "output_type": "display_data"
    },
    {
     "data": {
      "text/markdown": [
       "<span style=\"color:#cc3333\">Incorrect:</span> Expected return value of `80000` given `beds=0`, `baths=0`, but got `<learntools.core.constants.PlaceholderValue object at 0x79b0c8a0d930>` instead."
      ],
      "text/plain": [
       "Incorrect: Expected return value of `80000` given `beds=0`, `baths=0`, but got `<learntools.core.constants.PlaceholderValue object at 0x79b0c8a0d930>` instead."
      ]
     },
     "metadata": {},
     "output_type": "display_data"
    }
   ],
   "source": [
    "# TODO: Complete the function\n",
    "def get_expected_cost(beds, baths):\n",
    "    value = ____\n",
    "    return value\n",
    "\n",
    "# Check your answer \n",
    "q1.check()"
   ]
  },
  {
   "cell_type": "code",
   "execution_count": 3,
   "id": "70025b75",
   "metadata": {
    "execution": {
     "iopub.execute_input": "2024-05-10T16:47:06.922485Z",
     "iopub.status.busy": "2024-05-10T16:47:06.921170Z",
     "iopub.status.idle": "2024-05-10T16:47:06.927132Z",
     "shell.execute_reply": "2024-05-10T16:47:06.925960Z"
    },
    "papermill": {
     "duration": 0.018687,
     "end_time": "2024-05-10T16:47:06.929998",
     "exception": false,
     "start_time": "2024-05-10T16:47:06.911311",
     "status": "completed"
    },
    "tags": []
   },
   "outputs": [],
   "source": [
    "# Uncomment to see a hint\n",
    "#q1.hint()\n",
    "\n",
    "# Uncomment to view the solution\n",
    "#q1.solution()"
   ]
  },
  {
   "cell_type": "markdown",
   "id": "10a09a7d",
   "metadata": {
    "papermill": {
     "duration": 0.008128,
     "end_time": "2024-05-10T16:47:06.946708",
     "exception": false,
     "start_time": "2024-05-10T16:47:06.938580",
     "status": "completed"
    },
    "tags": []
   },
   "source": [
    "# Question 2\n",
    "\n",
    "You are thinking about buying a home and want to get an idea of how much you will spend, based on the number of bedrooms and bathrooms.  You are trying to decide between four different options:\n",
    "- Option 1: house with two bedrooms and three bathrooms\n",
    "- Option 2: house with three bedrooms and two bathrooms\n",
    "- Option 3: house with three bedrooms and three bathrooms\n",
    "- Option 4: house with three bedrooms and four bathrooms\n",
    "\n",
    "Use the `get_expected_cost()` function you defined in question 1 to set `option_1`, `option_2`, `option_3`, and `option_4` to the expected cost of each option."
   ]
  },
  {
   "cell_type": "code",
   "execution_count": 4,
   "id": "15045ea6",
   "metadata": {
    "execution": {
     "iopub.execute_input": "2024-05-10T16:47:06.965404Z",
     "iopub.status.busy": "2024-05-10T16:47:06.965035Z",
     "iopub.status.idle": "2024-05-10T16:47:06.978265Z",
     "shell.execute_reply": "2024-05-10T16:47:06.976893Z"
    },
    "papermill": {
     "duration": 0.025515,
     "end_time": "2024-05-10T16:47:06.980626",
     "exception": false,
     "start_time": "2024-05-10T16:47:06.955111",
     "status": "completed"
    },
    "tags": []
   },
   "outputs": [
    {
     "name": "stdout",
     "output_type": "stream",
     "text": [
      "<learntools.core.constants.PlaceholderValue object at 0x79b0c8a0d930>\n",
      "<learntools.core.constants.PlaceholderValue object at 0x79b0c8a0d930>\n",
      "<learntools.core.constants.PlaceholderValue object at 0x79b0c8a0d930>\n",
      "<learntools.core.constants.PlaceholderValue object at 0x79b0c8a0d930>\n"
     ]
    },
    {
     "data": {
      "application/javascript": [
       "parent.postMessage({\"jupyterEvent\": \"custom.exercise_interaction\", \"data\": {\"outcomeType\": 4, \"interactionType\": 1, \"questionType\": 1, \"questionId\": \"2_RunGetExpectedCost\", \"learnToolsVersion\": \"0.3.4\", \"valueTowardsCompletion\": 0.0, \"failureMessage\": \"\", \"exceptionClass\": \"\", \"trace\": \"\"}}, \"*\")"
      ],
      "text/plain": [
       "<IPython.core.display.Javascript object>"
      ]
     },
     "metadata": {},
     "output_type": "display_data"
    },
    {
     "data": {
      "text/markdown": [
       "<span style=\"color:#ccaa33\">Check:</span> When you've updated the starter code, `check()` will tell you whether your code is correct. You need to update the code that creates variables `option_one`, `option_two`, `option_three`, `option_four`"
      ],
      "text/plain": [
       "Check: When you've updated the starter code, `check()` will tell you whether your code is correct. You need to update the code that creates variables `option_one`, `option_two`, `option_three`, `option_four`"
      ]
     },
     "metadata": {},
     "output_type": "display_data"
    }
   ],
   "source": [
    "# TODO: Use the get_expected_cost function to fill in each value\n",
    "option_one = ____\n",
    "option_two = ____\n",
    "option_three = ____\n",
    "option_four = ____\n",
    "\n",
    "print(option_one)\n",
    "print(option_two)\n",
    "print(option_three)\n",
    "print(option_four)\n",
    "\n",
    "# Check your answer\n",
    "q2.check()"
   ]
  },
  {
   "cell_type": "code",
   "execution_count": 5,
   "id": "0b3d09c3",
   "metadata": {
    "execution": {
     "iopub.execute_input": "2024-05-10T16:47:07.001112Z",
     "iopub.status.busy": "2024-05-10T16:47:07.000409Z",
     "iopub.status.idle": "2024-05-10T16:47:07.006274Z",
     "shell.execute_reply": "2024-05-10T16:47:07.004750Z"
    },
    "papermill": {
     "duration": 0.020081,
     "end_time": "2024-05-10T16:47:07.009555",
     "exception": false,
     "start_time": "2024-05-10T16:47:06.989474",
     "status": "completed"
    },
    "tags": []
   },
   "outputs": [],
   "source": [
    "# Uncomment to see a hint\n",
    "#q2.hint()\n",
    "\n",
    "# Uncomment to view the solution\n",
    "#q2.solution()"
   ]
  },
  {
   "cell_type": "markdown",
   "id": "92622abe",
   "metadata": {
    "papermill": {
     "duration": 0.008786,
     "end_time": "2024-05-10T16:47:07.028867",
     "exception": false,
     "start_time": "2024-05-10T16:47:07.020081",
     "status": "completed"
    },
    "tags": []
   },
   "source": [
    "# Question 3\n",
    "\n",
    "You're a home decorator, and you'd like to use Python to streamline some of your work.  Specifically, you're creating a tool that you intend to use to calculate the cost of painting a room.\n",
    "\n",
    "As a first step, define a function `get_cost()` that takes as input:\n",
    "- `sqft_walls` = total square feet of walls to be painted\n",
    "- `sqft_ceiling` = square feet of ceiling to be painted\n",
    "- `sqft_per_gallon` = number of square feet that you can cover with one gallon of paint\n",
    "- `cost_per_gallon` = cost (in dollars) of one gallon of paint\n",
    "\n",
    "It should return the cost (in dollars) of putting one coat of paint on all walls and the ceiling.  Assume you can buy the exact amount of paint that you need, so you can buy partial gallons (e.g., if you need 7.523 gallons, you can buy that exact amount, instead of needing to buy 8 gallons and waste some paint).  Do not round your answer."
   ]
  },
  {
   "cell_type": "code",
   "execution_count": 6,
   "id": "074fb3e4",
   "metadata": {
    "execution": {
     "iopub.execute_input": "2024-05-10T16:47:07.049156Z",
     "iopub.status.busy": "2024-05-10T16:47:07.048676Z",
     "iopub.status.idle": "2024-05-10T16:47:07.060100Z",
     "shell.execute_reply": "2024-05-10T16:47:07.058495Z"
    },
    "papermill": {
     "duration": 0.024679,
     "end_time": "2024-05-10T16:47:07.062581",
     "exception": false,
     "start_time": "2024-05-10T16:47:07.037902",
     "status": "completed"
    },
    "tags": []
   },
   "outputs": [
    {
     "data": {
      "application/javascript": [
       "parent.postMessage({\"jupyterEvent\": \"custom.exercise_interaction\", \"data\": {\"outcomeType\": 2, \"failureMessage\": \"Expected return value of `21.599999999999998` given `sqft_walls=432`, `sqft_ceiling=144`, `sqft_per_gallon=400`, `cost_per_gallon=15`, but got `<learntools.core.constants.PlaceholderValue object at 0x79b0c8a0d930>` instead.\", \"interactionType\": 1, \"questionType\": 2, \"questionId\": \"3_GetCostPaint\", \"learnToolsVersion\": \"0.3.4\", \"valueTowardsCompletion\": 0.0, \"exceptionClass\": \"\", \"trace\": \"\"}}, \"*\")"
      ],
      "text/plain": [
       "<IPython.core.display.Javascript object>"
      ]
     },
     "metadata": {},
     "output_type": "display_data"
    },
    {
     "data": {
      "text/markdown": [
       "<span style=\"color:#cc3333\">Incorrect:</span> Expected return value of `21.599999999999998` given `sqft_walls=432`, `sqft_ceiling=144`, `sqft_per_gallon=400`, `cost_per_gallon=15`, but got `<learntools.core.constants.PlaceholderValue object at 0x79b0c8a0d930>` instead."
      ],
      "text/plain": [
       "Incorrect: Expected return value of `21.599999999999998` given `sqft_walls=432`, `sqft_ceiling=144`, `sqft_per_gallon=400`, `cost_per_gallon=15`, but got `<learntools.core.constants.PlaceholderValue object at 0x79b0c8a0d930>` instead."
      ]
     },
     "metadata": {},
     "output_type": "display_data"
    }
   ],
   "source": [
    "# TODO: Finish defining the function\n",
    "def get_cost(sqft_walls, sqft_ceiling, sqft_per_gallon, cost_per_gallon):\n",
    "    cost = ____\n",
    "    return cost\n",
    "\n",
    "# Check your answer\n",
    "q3.check()"
   ]
  },
  {
   "cell_type": "code",
   "execution_count": 7,
   "id": "722aea11",
   "metadata": {
    "execution": {
     "iopub.execute_input": "2024-05-10T16:47:07.084111Z",
     "iopub.status.busy": "2024-05-10T16:47:07.083681Z",
     "iopub.status.idle": "2024-05-10T16:47:07.088646Z",
     "shell.execute_reply": "2024-05-10T16:47:07.087230Z"
    },
    "papermill": {
     "duration": 0.019023,
     "end_time": "2024-05-10T16:47:07.091187",
     "exception": false,
     "start_time": "2024-05-10T16:47:07.072164",
     "status": "completed"
    },
    "tags": []
   },
   "outputs": [],
   "source": [
    "# Uncomment to see a hint\n",
    "#q3.hint()\n",
    "\n",
    "# Uncomment to view the solution\n",
    "#q3.solution()"
   ]
  },
  {
   "cell_type": "markdown",
   "id": "016c6d18",
   "metadata": {
    "papermill": {
     "duration": 0.009361,
     "end_time": "2024-05-10T16:47:07.110222",
     "exception": false,
     "start_time": "2024-05-10T16:47:07.100861",
     "status": "completed"
    },
    "tags": []
   },
   "source": [
    "# Question 4\n",
    "\n",
    "Use the `get_cost()` function you defined in Question 3 to calculate the cost of applying one coat of paint to a room with:\n",
    "- 432 square feet of walls, and\n",
    "- 144 square feet of ceiling.\n",
    "\n",
    "Assume that one gallon of paint covers 400 square feet and costs $15.  As in Question 3, assume you can buy partial gallons of paint.  Do not round your answer."
   ]
  },
  {
   "cell_type": "code",
   "execution_count": 8,
   "id": "6b5344d9",
   "metadata": {
    "execution": {
     "iopub.execute_input": "2024-05-10T16:47:07.132301Z",
     "iopub.status.busy": "2024-05-10T16:47:07.131861Z",
     "iopub.status.idle": "2024-05-10T16:47:07.141886Z",
     "shell.execute_reply": "2024-05-10T16:47:07.140538Z"
    },
    "papermill": {
     "duration": 0.023977,
     "end_time": "2024-05-10T16:47:07.144466",
     "exception": false,
     "start_time": "2024-05-10T16:47:07.120489",
     "status": "completed"
    },
    "tags": []
   },
   "outputs": [
    {
     "data": {
      "application/javascript": [
       "parent.postMessage({\"jupyterEvent\": \"custom.exercise_interaction\", \"data\": {\"outcomeType\": 4, \"interactionType\": 1, \"questionType\": 1, \"questionId\": \"4_GetCostPaintExample\", \"learnToolsVersion\": \"0.3.4\", \"valueTowardsCompletion\": 0.0, \"failureMessage\": \"\", \"exceptionClass\": \"\", \"trace\": \"\"}}, \"*\")"
      ],
      "text/plain": [
       "<IPython.core.display.Javascript object>"
      ]
     },
     "metadata": {},
     "output_type": "display_data"
    },
    {
     "data": {
      "text/markdown": [
       "<span style=\"color:#ccaa33\">Check:</span> When you've updated the starter code, `check()` will tell you whether your code is correct. You need to update the code that creates variable `project_cost`"
      ],
      "text/plain": [
       "Check: When you've updated the starter code, `check()` will tell you whether your code is correct. You need to update the code that creates variable `project_cost`"
      ]
     },
     "metadata": {},
     "output_type": "display_data"
    }
   ],
   "source": [
    "# TODO: Set the project_cost variable to the cost of the project\n",
    "project_cost = ____\n",
    "\n",
    "# Check your answer\n",
    "q4.check()"
   ]
  },
  {
   "cell_type": "code",
   "execution_count": 9,
   "id": "44faafc9",
   "metadata": {
    "execution": {
     "iopub.execute_input": "2024-05-10T16:47:07.166459Z",
     "iopub.status.busy": "2024-05-10T16:47:07.166017Z",
     "iopub.status.idle": "2024-05-10T16:47:07.171973Z",
     "shell.execute_reply": "2024-05-10T16:47:07.170458Z"
    },
    "papermill": {
     "duration": 0.02009,
     "end_time": "2024-05-10T16:47:07.174601",
     "exception": false,
     "start_time": "2024-05-10T16:47:07.154511",
     "status": "completed"
    },
    "tags": []
   },
   "outputs": [],
   "source": [
    "# Uncomment to see a hint\n",
    "#q4.hint()\n",
    "\n",
    "# Uncomment to view the solution\n",
    "#q4.solution()"
   ]
  },
  {
   "cell_type": "markdown",
   "id": "63cb9b92",
   "metadata": {
    "papermill": {
     "duration": 0.009534,
     "end_time": "2024-05-10T16:47:07.194318",
     "exception": false,
     "start_time": "2024-05-10T16:47:07.184784",
     "status": "completed"
    },
    "tags": []
   },
   "source": [
    "# 🌶️ Question 5\n",
    "\n",
    "Now say you can no longer buy fractions of a gallon.  (For instance, if you need 4.3 gallons to do a project, then you have to buy 5 gallons of paint.)\n",
    "\n",
    "With this new scenario, you will create a new function `get_actual_cost` that uses the same inputs and calculates the cost of your project.\n",
    "\n",
    "One function that you'll need to use to do this is `math.ceil()`.  We demonstrate usage of this function in the code cell below.  It takes as a number as input and rounds the number up to the nearest integer.  \n",
    "\n",
    "Run the next code cell to test this function for yourself.  Feel free to change the value of `test_value` and make sure `math.ceil()` returns the number you expect."
   ]
  },
  {
   "cell_type": "code",
   "execution_count": 10,
   "id": "9dc96606",
   "metadata": {
    "execution": {
     "iopub.execute_input": "2024-05-10T16:47:07.215797Z",
     "iopub.status.busy": "2024-05-10T16:47:07.215377Z",
     "iopub.status.idle": "2024-05-10T16:47:07.222122Z",
     "shell.execute_reply": "2024-05-10T16:47:07.220867Z"
    },
    "papermill": {
     "duration": 0.021299,
     "end_time": "2024-05-10T16:47:07.225386",
     "exception": false,
     "start_time": "2024-05-10T16:47:07.204087",
     "status": "completed"
    },
    "tags": []
   },
   "outputs": [
    {
     "name": "stdout",
     "output_type": "stream",
     "text": [
      "3\n"
     ]
    }
   ],
   "source": [
    "test_value = 2.17\n",
    "\n",
    "rounded_value = math.ceil(test_value)\n",
    "print(rounded_value)"
   ]
  },
  {
   "cell_type": "markdown",
   "id": "ef51c2e0",
   "metadata": {
    "papermill": {
     "duration": 0.010161,
     "end_time": "2024-05-10T16:47:07.246189",
     "exception": false,
     "start_time": "2024-05-10T16:47:07.236028",
     "status": "completed"
    },
    "tags": []
   },
   "source": [
    "Use the next code cell to define the function `get_actual_cost()`.  You'll need to use the `math.ceil()` function to do this.\n",
    "\n",
    "When answering this question, note that it's completely valid to define a function that makes use of another function.  For instance, we can define a function `round_up_and_divide_by_three` that makes use of the `math.ceil` function:\n",
    "```\n",
    "def round_up_and_divide_by_three(num):\n",
    "    new_value = math.ceil(num)\n",
    "    final_value = new_value / 3\n",
    "    return final_value\n",
    "```"
   ]
  },
  {
   "cell_type": "code",
   "execution_count": 11,
   "id": "057eb38a",
   "metadata": {
    "execution": {
     "iopub.execute_input": "2024-05-10T16:47:07.268256Z",
     "iopub.status.busy": "2024-05-10T16:47:07.267848Z",
     "iopub.status.idle": "2024-05-10T16:47:07.278470Z",
     "shell.execute_reply": "2024-05-10T16:47:07.277263Z"
    },
    "papermill": {
     "duration": 0.024878,
     "end_time": "2024-05-10T16:47:07.281251",
     "exception": false,
     "start_time": "2024-05-10T16:47:07.256373",
     "status": "completed"
    },
    "tags": []
   },
   "outputs": [
    {
     "data": {
      "application/javascript": [
       "parent.postMessage({\"jupyterEvent\": \"custom.exercise_interaction\", \"data\": {\"outcomeType\": 2, \"failureMessage\": \"Expected return value of `30` given `sqft_walls=432`, `sqft_ceiling=144`, `sqft_per_gallon=400`, `cost_per_gallon=15`, but got `<learntools.core.constants.PlaceholderValue object at 0x79b0c8a0d930>` instead.\", \"interactionType\": 1, \"questionType\": 2, \"questionId\": \"5_NoMoreFractions\", \"learnToolsVersion\": \"0.3.4\", \"valueTowardsCompletion\": 0.0, \"exceptionClass\": \"\", \"trace\": \"\"}}, \"*\")"
      ],
      "text/plain": [
       "<IPython.core.display.Javascript object>"
      ]
     },
     "metadata": {},
     "output_type": "display_data"
    },
    {
     "data": {
      "text/markdown": [
       "<span style=\"color:#cc3333\">Incorrect:</span> Expected return value of `30` given `sqft_walls=432`, `sqft_ceiling=144`, `sqft_per_gallon=400`, `cost_per_gallon=15`, but got `<learntools.core.constants.PlaceholderValue object at 0x79b0c8a0d930>` instead."
      ],
      "text/plain": [
       "Incorrect: Expected return value of `30` given `sqft_walls=432`, `sqft_ceiling=144`, `sqft_per_gallon=400`, `cost_per_gallon=15`, but got `<learntools.core.constants.PlaceholderValue object at 0x79b0c8a0d930>` instead."
      ]
     },
     "metadata": {},
     "output_type": "display_data"
    }
   ],
   "source": [
    "def get_actual_cost(sqft_walls, sqft_ceiling, sqft_per_gallon, cost_per_gallon):\n",
    "    cost = ____\n",
    "    return cost\n",
    "\n",
    "# Check your answer\n",
    "q5.check()"
   ]
  },
  {
   "cell_type": "code",
   "execution_count": 12,
   "id": "952c15f5",
   "metadata": {
    "execution": {
     "iopub.execute_input": "2024-05-10T16:47:07.304287Z",
     "iopub.status.busy": "2024-05-10T16:47:07.303827Z",
     "iopub.status.idle": "2024-05-10T16:47:07.309062Z",
     "shell.execute_reply": "2024-05-10T16:47:07.307753Z"
    },
    "papermill": {
     "duration": 0.020414,
     "end_time": "2024-05-10T16:47:07.311961",
     "exception": false,
     "start_time": "2024-05-10T16:47:07.291547",
     "status": "completed"
    },
    "tags": []
   },
   "outputs": [],
   "source": [
    "# Uncomment to see a hint\n",
    "#q5.hint()\n",
    "\n",
    "# Uncomment to view the solution\n",
    "#q5.solution()"
   ]
  },
  {
   "cell_type": "markdown",
   "id": "e91e1cbb",
   "metadata": {
    "papermill": {
     "duration": 0.010818,
     "end_time": "2024-05-10T16:47:07.333157",
     "exception": false,
     "start_time": "2024-05-10T16:47:07.322339",
     "status": "completed"
    },
    "tags": []
   },
   "source": [
    "Once your function is verified as correct, run the next code cell to calculate the updated cost of your project."
   ]
  },
  {
   "cell_type": "code",
   "execution_count": 13,
   "id": "90b36724",
   "metadata": {
    "execution": {
     "iopub.execute_input": "2024-05-10T16:47:07.356160Z",
     "iopub.status.busy": "2024-05-10T16:47:07.354949Z",
     "iopub.status.idle": "2024-05-10T16:47:07.363941Z",
     "shell.execute_reply": "2024-05-10T16:47:07.362622Z"
    },
    "papermill": {
     "duration": 0.023136,
     "end_time": "2024-05-10T16:47:07.366477",
     "exception": false,
     "start_time": "2024-05-10T16:47:07.343341",
     "status": "completed"
    },
    "tags": []
   },
   "outputs": [
    {
     "data": {
      "text/markdown": [],
      "text/plain": [
       "<learntools.core.constants.PlaceholderValue at 0x79b0c8a0d930>"
      ]
     },
     "execution_count": 13,
     "metadata": {},
     "output_type": "execute_result"
    }
   ],
   "source": [
    "get_actual_cost(432, 144, 400, 15) "
   ]
  },
  {
   "cell_type": "markdown",
   "id": "6dc841d9",
   "metadata": {
    "papermill": {
     "duration": 0.010102,
     "end_time": "2024-05-10T16:47:07.386783",
     "exception": false,
     "start_time": "2024-05-10T16:47:07.376681",
     "status": "completed"
    },
    "tags": []
   },
   "source": [
    "Say you're working with a slightly larger room.  Run the next code cell to calculate the cost of the project."
   ]
  },
  {
   "cell_type": "code",
   "execution_count": 14,
   "id": "85591d0d",
   "metadata": {
    "execution": {
     "iopub.execute_input": "2024-05-10T16:47:07.409204Z",
     "iopub.status.busy": "2024-05-10T16:47:07.408826Z",
     "iopub.status.idle": "2024-05-10T16:47:07.416065Z",
     "shell.execute_reply": "2024-05-10T16:47:07.415131Z"
    },
    "papermill": {
     "duration": 0.021153,
     "end_time": "2024-05-10T16:47:07.418208",
     "exception": false,
     "start_time": "2024-05-10T16:47:07.397055",
     "status": "completed"
    },
    "tags": []
   },
   "outputs": [
    {
     "data": {
      "text/markdown": [],
      "text/plain": [
       "<learntools.core.constants.PlaceholderValue at 0x79b0c8a0d930>"
      ]
     },
     "execution_count": 14,
     "metadata": {},
     "output_type": "execute_result"
    }
   ],
   "source": [
    "get_actual_cost(594, 288, 400, 15) "
   ]
  },
  {
   "cell_type": "markdown",
   "id": "1b845118",
   "metadata": {
    "papermill": {
     "duration": 0.010105,
     "end_time": "2024-05-10T16:47:07.438593",
     "exception": false,
     "start_time": "2024-05-10T16:47:07.428488",
     "status": "completed"
    },
    "tags": []
   },
   "source": [
    "# Keep going\n",
    "\n",
    "Continue to learn about **[data types](https://www.kaggle.com/alexisbcook/data-types)**."
   ]
  },
  {
   "cell_type": "markdown",
   "id": "df157241",
   "metadata": {
    "papermill": {
     "duration": 0.009979,
     "end_time": "2024-05-10T16:47:07.459001",
     "exception": false,
     "start_time": "2024-05-10T16:47:07.449022",
     "status": "completed"
    },
    "tags": []
   },
   "source": [
    "---\n",
    "\n",
    "\n",
    "\n",
    "\n",
    "*Have questions or comments? Visit the [course discussion forum](https://www.kaggle.com/learn/intro-to-programming/discussion) to chat with other learners.*"
   ]
  }
 ],
 "metadata": {
  "kaggle": {
   "accelerator": "none",
   "dataSources": [],
   "isGpuEnabled": false,
   "isInternetEnabled": false,
   "language": "python",
   "sourceType": "notebook"
  },
  "kernelspec": {
   "display_name": "Python 3",
   "language": "python",
   "name": "python3"
  },
  "language_info": {
   "codemirror_mode": {
    "name": "ipython",
    "version": 3
   },
   "file_extension": ".py",
   "mimetype": "text/x-python",
   "name": "python",
   "nbconvert_exporter": "python",
   "pygments_lexer": "ipython3",
   "version": "3.10.13"
  },
  "papermill": {
   "default_parameters": {},
   "duration": 5.713471,
   "end_time": "2024-05-10T16:47:07.992895",
   "environment_variables": {},
   "exception": null,
   "input_path": "__notebook__.ipynb",
   "output_path": "__notebook__.ipynb",
   "parameters": {},
   "start_time": "2024-05-10T16:47:02.279424",
   "version": "2.5.0"
  }
 },
 "nbformat": 4,
 "nbformat_minor": 5
}
