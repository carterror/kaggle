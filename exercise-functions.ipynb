{
 "cells": [
  {
   "cell_type": "markdown",
   "id": "ad93f8a6",
   "metadata": {
    "papermill": {
     "duration": 0.006538,
     "end_time": "2024-05-10T17:57:37.823780",
     "exception": false,
     "start_time": "2024-05-10T17:57:37.817242",
     "status": "completed"
    },
    "tags": []
   },
   "source": [
    "**This notebook is an exercise in the [Intro to Programming](https://www.kaggle.com/learn/intro-to-programming) course.  You can reference the tutorial at [this link](https://www.kaggle.com/alexisbcook/functions).**\n",
    "\n",
    "---\n"
   ]
  },
  {
   "cell_type": "markdown",
   "id": "3bc75366",
   "metadata": {
    "papermill": {
     "duration": 0.005662,
     "end_time": "2024-05-10T17:57:37.835928",
     "exception": false,
     "start_time": "2024-05-10T17:57:37.830266",
     "status": "completed"
    },
    "tags": []
   },
   "source": [
    "In the tutorial, you learned about functions. In this exercise, you'll write some of your own!\n",
    "\n",
    "# Set up the notebook\n",
    "\n",
    "Run the next code cell without changes to set up the notebook."
   ]
  },
  {
   "cell_type": "code",
   "execution_count": 1,
   "id": "f3cb51b5",
   "metadata": {
    "execution": {
     "iopub.execute_input": "2024-05-10T17:57:37.851202Z",
     "iopub.status.busy": "2024-05-10T17:57:37.850324Z",
     "iopub.status.idle": "2024-05-10T17:57:38.849927Z",
     "shell.execute_reply": "2024-05-10T17:57:38.848777Z"
    },
    "papermill": {
     "duration": 1.010736,
     "end_time": "2024-05-10T17:57:38.852741",
     "exception": false,
     "start_time": "2024-05-10T17:57:37.842005",
     "status": "completed"
    },
    "tags": []
   },
   "outputs": [
    {
     "name": "stdout",
     "output_type": "stream",
     "text": [
      "Setup complete.\n"
     ]
    }
   ],
   "source": [
    "# Set up the exercise\n",
    "import math\n",
    "from learntools.core import binder\n",
    "binder.bind(globals())\n",
    "from learntools.intro_to_programming.ex2 import *\n",
    "print('Setup complete.')"
   ]
  },
  {
   "cell_type": "markdown",
   "id": "8306809b",
   "metadata": {
    "papermill": {
     "duration": 0.005733,
     "end_time": "2024-05-10T17:57:38.865328",
     "exception": false,
     "start_time": "2024-05-10T17:57:38.859595",
     "status": "completed"
    },
    "tags": []
   },
   "source": [
    "# Question 1\n",
    "\n",
    "In the [House Prices - Advanced Regression Techniques competition](https://www.kaggle.com/c/house-prices-advanced-regression-techniques/overview), you need to use information like the number of bedrooms and bathrooms to predict the price of a house.  Inspired by this competition, you'll write your own function to do this.\n",
    "\n",
    "In the next code cell, create a function `get_expected_cost()` that has two arguments:\n",
    "- `beds` - number of bedrooms \n",
    "- `baths` - number of bathrooms\n",
    "\n",
    "It should return the expected cost of a house with that number of bedrooms and bathrooms.  Assume that:\n",
    "- the expected cost for a house with 0 bedrooms and 0 bathrooms is `80000`.  \n",
    "- each bedroom adds `30000` to the expected cost\n",
    "- each bathroom adds `10000` to the expected cost.\n",
    "\n",
    "For instance, \n",
    "- a house with 1 bedroom and 1 bathroom has an expected cost of `120000`, and \n",
    "- a house with 2 bedrooms and 1 bathroom has an expected cost of `150000`."
   ]
  },
  {
   "cell_type": "code",
   "execution_count": 2,
   "id": "6bda3699",
   "metadata": {
    "execution": {
     "iopub.execute_input": "2024-05-10T17:57:38.879616Z",
     "iopub.status.busy": "2024-05-10T17:57:38.878766Z",
     "iopub.status.idle": "2024-05-10T17:57:38.889011Z",
     "shell.execute_reply": "2024-05-10T17:57:38.887760Z"
    },
    "papermill": {
     "duration": 0.020202,
     "end_time": "2024-05-10T17:57:38.891477",
     "exception": false,
     "start_time": "2024-05-10T17:57:38.871275",
     "status": "completed"
    },
    "tags": []
   },
   "outputs": [
    {
     "data": {
      "application/javascript": [
       "parent.postMessage({\"jupyterEvent\": \"custom.exercise_interaction\", \"data\": {\"outcomeType\": 1, \"valueTowardsCompletion\": 0.2, \"interactionType\": 1, \"questionType\": 2, \"questionId\": \"1_GetExpectedCost\", \"learnToolsVersion\": \"0.3.4\", \"failureMessage\": \"\", \"exceptionClass\": \"\", \"trace\": \"\"}}, \"*\")"
      ],
      "text/plain": [
       "<IPython.core.display.Javascript object>"
      ]
     },
     "metadata": {},
     "output_type": "display_data"
    },
    {
     "data": {
      "text/markdown": [
       "<span style=\"color:#33cc33\">Correct</span>"
      ],
      "text/plain": [
       "Correct"
      ]
     },
     "metadata": {},
     "output_type": "display_data"
    }
   ],
   "source": [
    "# TODO: Complete the function\n",
    "def get_expected_cost(beds, baths):\n",
    "    value = 80000 + (beds * 30000) + (baths * 10000)\n",
    "    return value\n",
    "\n",
    "# Check your answer \n",
    "q1.check()"
   ]
  },
  {
   "cell_type": "code",
   "execution_count": 3,
   "id": "c9674e8c",
   "metadata": {
    "execution": {
     "iopub.execute_input": "2024-05-10T17:57:38.906332Z",
     "iopub.status.busy": "2024-05-10T17:57:38.905653Z",
     "iopub.status.idle": "2024-05-10T17:57:38.917948Z",
     "shell.execute_reply": "2024-05-10T17:57:38.916716Z"
    },
    "papermill": {
     "duration": 0.022386,
     "end_time": "2024-05-10T17:57:38.920212",
     "exception": false,
     "start_time": "2024-05-10T17:57:38.897826",
     "status": "completed"
    },
    "tags": []
   },
   "outputs": [
    {
     "data": {
      "application/javascript": [
       "parent.postMessage({\"jupyterEvent\": \"custom.exercise_interaction\", \"data\": {\"interactionType\": 2, \"questionType\": 2, \"questionId\": \"1_GetExpectedCost\", \"learnToolsVersion\": \"0.3.4\", \"valueTowardsCompletion\": 0.0, \"failureMessage\": \"\", \"exceptionClass\": \"\", \"trace\": \"\", \"outcomeType\": 4}}, \"*\")"
      ],
      "text/plain": [
       "<IPython.core.display.Javascript object>"
      ]
     },
     "metadata": {},
     "output_type": "display_data"
    },
    {
     "data": {
      "text/markdown": [
       "<span style=\"color:#3366cc\">Hint:</span> The value should be the base cost (`80000`), plus the total cost of the bedrooms (`30000 * beds`), plus the total cost of the bathrooms (`10000 * baths`)."
      ],
      "text/plain": [
       "Hint: The value should be the base cost (`80000`), plus the total cost of the bedrooms (`30000 * beds`), plus the total cost of the bathrooms (`10000 * baths`)."
      ]
     },
     "metadata": {},
     "output_type": "display_data"
    },
    {
     "data": {
      "application/javascript": [
       "parent.postMessage({\"jupyterEvent\": \"custom.exercise_interaction\", \"data\": {\"interactionType\": 3, \"questionType\": 2, \"questionId\": \"1_GetExpectedCost\", \"learnToolsVersion\": \"0.3.4\", \"valueTowardsCompletion\": 0.0, \"failureMessage\": \"\", \"exceptionClass\": \"\", \"trace\": \"\", \"outcomeType\": 4}}, \"*\")"
      ],
      "text/plain": [
       "<IPython.core.display.Javascript object>"
      ]
     },
     "metadata": {},
     "output_type": "display_data"
    },
    {
     "data": {
      "text/markdown": [
       "<span style=\"color:#33cc99\">Solution:</span> \n",
       "```python\n",
       "\n",
       "def get_expected_cost(beds, baths):\n",
       "    value = 80000 + 30000 * beds + 10000 * baths\n",
       "    return value\n",
       "\n",
       "```"
      ],
      "text/plain": [
       "Solution: \n",
       "```python\n",
       "\n",
       "def get_expected_cost(beds, baths):\n",
       "    value = 80000 + 30000 * beds + 10000 * baths\n",
       "    return value\n",
       "\n",
       "```"
      ]
     },
     "metadata": {},
     "output_type": "display_data"
    }
   ],
   "source": [
    "# Uncomment to see a hint\n",
    "q1.hint()\n",
    "\n",
    "# Uncomment to view the solution\n",
    "q1.solution()"
   ]
  },
  {
   "cell_type": "markdown",
   "id": "600463b4",
   "metadata": {
    "papermill": {
     "duration": 0.006644,
     "end_time": "2024-05-10T17:57:38.933721",
     "exception": false,
     "start_time": "2024-05-10T17:57:38.927077",
     "status": "completed"
    },
    "tags": []
   },
   "source": [
    "# Question 2\n",
    "\n",
    "You are thinking about buying a home and want to get an idea of how much you will spend, based on the number of bedrooms and bathrooms.  You are trying to decide between four different options:\n",
    "- Option 1: house with two bedrooms and three bathrooms\n",
    "- Option 2: house with three bedrooms and two bathrooms\n",
    "- Option 3: house with three bedrooms and three bathrooms\n",
    "- Option 4: house with three bedrooms and four bathrooms\n",
    "\n",
    "Use the `get_expected_cost()` function you defined in question 1 to set `option_1`, `option_2`, `option_3`, and `option_4` to the expected cost of each option."
   ]
  },
  {
   "cell_type": "code",
   "execution_count": 4,
   "id": "f4c4e60c",
   "metadata": {
    "execution": {
     "iopub.execute_input": "2024-05-10T17:57:38.949663Z",
     "iopub.status.busy": "2024-05-10T17:57:38.949253Z",
     "iopub.status.idle": "2024-05-10T17:57:38.960260Z",
     "shell.execute_reply": "2024-05-10T17:57:38.959109Z"
    },
    "papermill": {
     "duration": 0.021201,
     "end_time": "2024-05-10T17:57:38.962308",
     "exception": false,
     "start_time": "2024-05-10T17:57:38.941107",
     "status": "completed"
    },
    "tags": []
   },
   "outputs": [
    {
     "name": "stdout",
     "output_type": "stream",
     "text": [
      "170000\n",
      "190000\n",
      "200000\n",
      "210000\n"
     ]
    },
    {
     "data": {
      "application/javascript": [
       "parent.postMessage({\"jupyterEvent\": \"custom.exercise_interaction\", \"data\": {\"outcomeType\": 1, \"valueTowardsCompletion\": 0.2, \"interactionType\": 1, \"questionType\": 1, \"questionId\": \"2_RunGetExpectedCost\", \"learnToolsVersion\": \"0.3.4\", \"failureMessage\": \"\", \"exceptionClass\": \"\", \"trace\": \"\"}}, \"*\")"
      ],
      "text/plain": [
       "<IPython.core.display.Javascript object>"
      ]
     },
     "metadata": {},
     "output_type": "display_data"
    },
    {
     "data": {
      "text/markdown": [
       "<span style=\"color:#33cc33\">Correct</span>"
      ],
      "text/plain": [
       "Correct"
      ]
     },
     "metadata": {},
     "output_type": "display_data"
    }
   ],
   "source": [
    "# TODO: Use the get_expected_cost function to fill in each value\n",
    "option_one = get_expected_cost(2, 3)\n",
    "option_two = get_expected_cost(3, 2)\n",
    "option_three = get_expected_cost(3, 3)\n",
    "option_four = get_expected_cost(3, 4)\n",
    "\n",
    "print(option_one)\n",
    "print(option_two)\n",
    "print(option_three)\n",
    "print(option_four)\n",
    "\n",
    "# Check your answer\n",
    "q2.check()"
   ]
  },
  {
   "cell_type": "code",
   "execution_count": 5,
   "id": "a477d7ad",
   "metadata": {
    "execution": {
     "iopub.execute_input": "2024-05-10T17:57:38.979294Z",
     "iopub.status.busy": "2024-05-10T17:57:38.978650Z",
     "iopub.status.idle": "2024-05-10T17:57:38.982856Z",
     "shell.execute_reply": "2024-05-10T17:57:38.981836Z"
    },
    "papermill": {
     "duration": 0.015422,
     "end_time": "2024-05-10T17:57:38.984845",
     "exception": false,
     "start_time": "2024-05-10T17:57:38.969423",
     "status": "completed"
    },
    "tags": []
   },
   "outputs": [],
   "source": [
    "# Uncomment to see a hint\n",
    "#q2.hint()\n",
    "\n",
    "# Uncomment to view the solution\n",
    "#q2.solution()"
   ]
  },
  {
   "cell_type": "markdown",
   "id": "3b3b8e26",
   "metadata": {
    "papermill": {
     "duration": 0.00673,
     "end_time": "2024-05-10T17:57:38.998604",
     "exception": false,
     "start_time": "2024-05-10T17:57:38.991874",
     "status": "completed"
    },
    "tags": []
   },
   "source": [
    "# Question 3\n",
    "\n",
    "You're a home decorator, and you'd like to use Python to streamline some of your work.  Specifically, you're creating a tool that you intend to use to calculate the cost of painting a room.\n",
    "\n",
    "As a first step, define a function `get_cost()` that takes as input:\n",
    "- `sqft_walls` = total square feet of walls to be painted\n",
    "- `sqft_ceiling` = square feet of ceiling to be painted\n",
    "- `sqft_per_gallon` = number of square feet that you can cover with one gallon of paint\n",
    "- `cost_per_gallon` = cost (in dollars) of one gallon of paint\n",
    "\n",
    "It should return the cost (in dollars) of putting one coat of paint on all walls and the ceiling.  Assume you can buy the exact amount of paint that you need, so you can buy partial gallons (e.g., if you need 7.523 gallons, you can buy that exact amount, instead of needing to buy 8 gallons and waste some paint).  Do not round your answer."
   ]
  },
  {
   "cell_type": "code",
   "execution_count": 6,
   "id": "d68fdf40",
   "metadata": {
    "execution": {
     "iopub.execute_input": "2024-05-10T17:57:39.014619Z",
     "iopub.status.busy": "2024-05-10T17:57:39.013840Z",
     "iopub.status.idle": "2024-05-10T17:57:39.021947Z",
     "shell.execute_reply": "2024-05-10T17:57:39.020830Z"
    },
    "papermill": {
     "duration": 0.018318,
     "end_time": "2024-05-10T17:57:39.023917",
     "exception": false,
     "start_time": "2024-05-10T17:57:39.005599",
     "status": "completed"
    },
    "tags": []
   },
   "outputs": [
    {
     "data": {
      "application/javascript": [
       "parent.postMessage({\"jupyterEvent\": \"custom.exercise_interaction\", \"data\": {\"outcomeType\": 1, \"valueTowardsCompletion\": 0.2, \"interactionType\": 1, \"questionType\": 2, \"questionId\": \"3_GetCostPaint\", \"learnToolsVersion\": \"0.3.4\", \"failureMessage\": \"\", \"exceptionClass\": \"\", \"trace\": \"\"}}, \"*\")"
      ],
      "text/plain": [
       "<IPython.core.display.Javascript object>"
      ]
     },
     "metadata": {},
     "output_type": "display_data"
    },
    {
     "data": {
      "text/markdown": [
       "<span style=\"color:#33cc33\">Correct</span>"
      ],
      "text/plain": [
       "Correct"
      ]
     },
     "metadata": {},
     "output_type": "display_data"
    }
   ],
   "source": [
    "# TODO: Finish defining the function\n",
    "def get_cost(sqft_walls, sqft_ceiling, sqft_per_gallon, cost_per_gallon):\n",
    "    cost = ((sqft_walls + sqft_ceiling) / sqft_per_gallon) * cost_per_gallon\n",
    "    return cost\n",
    "\n",
    "# Check your answer\n",
    "q3.check()"
   ]
  },
  {
   "cell_type": "code",
   "execution_count": 7,
   "id": "7e57ee3e",
   "metadata": {
    "execution": {
     "iopub.execute_input": "2024-05-10T17:57:39.040373Z",
     "iopub.status.busy": "2024-05-10T17:57:39.039546Z",
     "iopub.status.idle": "2024-05-10T17:57:39.051959Z",
     "shell.execute_reply": "2024-05-10T17:57:39.051098Z"
    },
    "papermill": {
     "duration": 0.022801,
     "end_time": "2024-05-10T17:57:39.053879",
     "exception": false,
     "start_time": "2024-05-10T17:57:39.031078",
     "status": "completed"
    },
    "tags": []
   },
   "outputs": [
    {
     "data": {
      "application/javascript": [
       "parent.postMessage({\"jupyterEvent\": \"custom.exercise_interaction\", \"data\": {\"interactionType\": 2, \"questionType\": 2, \"questionId\": \"3_GetCostPaint\", \"learnToolsVersion\": \"0.3.4\", \"valueTowardsCompletion\": 0.0, \"failureMessage\": \"\", \"exceptionClass\": \"\", \"trace\": \"\", \"outcomeType\": 4}}, \"*\")"
      ],
      "text/plain": [
       "<IPython.core.display.Javascript object>"
      ]
     },
     "metadata": {},
     "output_type": "display_data"
    },
    {
     "data": {
      "text/markdown": [
       "<span style=\"color:#3366cc\">Hint:</span> Begin by calculating the total number of square feet that need to be painted. Then, based on that, figure out how many gallons you need.  Then, once you know how many gallons you need, you can calculate the total cost of the project."
      ],
      "text/plain": [
       "Hint: Begin by calculating the total number of square feet that need to be painted. Then, based on that, figure out how many gallons you need.  Then, once you know how many gallons you need, you can calculate the total cost of the project."
      ]
     },
     "metadata": {},
     "output_type": "display_data"
    },
    {
     "data": {
      "application/javascript": [
       "parent.postMessage({\"jupyterEvent\": \"custom.exercise_interaction\", \"data\": {\"interactionType\": 3, \"questionType\": 2, \"questionId\": \"3_GetCostPaint\", \"learnToolsVersion\": \"0.3.4\", \"valueTowardsCompletion\": 0.0, \"failureMessage\": \"\", \"exceptionClass\": \"\", \"trace\": \"\", \"outcomeType\": 4}}, \"*\")"
      ],
      "text/plain": [
       "<IPython.core.display.Javascript object>"
      ]
     },
     "metadata": {},
     "output_type": "display_data"
    },
    {
     "data": {
      "text/markdown": [
       "<span style=\"color:#33cc99\">Solution:</span> \n",
       "```python\n",
       "\n",
       "def get_cost(sqft_walls, sqft_ceiling, sqft_per_gallon, cost_per_gallon):\n",
       "    total_sqft = sqft_walls + sqft_ceiling\n",
       "    gallons_needed = total_sqft / sqft_per_gallon\n",
       "    cost = cost_per_gallon * gallons_needed\n",
       "    return cost\n",
       "\n",
       "```"
      ],
      "text/plain": [
       "Solution: \n",
       "```python\n",
       "\n",
       "def get_cost(sqft_walls, sqft_ceiling, sqft_per_gallon, cost_per_gallon):\n",
       "    total_sqft = sqft_walls + sqft_ceiling\n",
       "    gallons_needed = total_sqft / sqft_per_gallon\n",
       "    cost = cost_per_gallon * gallons_needed\n",
       "    return cost\n",
       "\n",
       "```"
      ]
     },
     "metadata": {},
     "output_type": "display_data"
    }
   ],
   "source": [
    "# Uncomment to see a hint\n",
    "q3.hint()\n",
    "\n",
    "# Uncomment to view the solution\n",
    "q3.solution()"
   ]
  },
  {
   "cell_type": "markdown",
   "id": "bf008604",
   "metadata": {
    "papermill": {
     "duration": 0.007335,
     "end_time": "2024-05-10T17:57:39.069049",
     "exception": false,
     "start_time": "2024-05-10T17:57:39.061714",
     "status": "completed"
    },
    "tags": []
   },
   "source": [
    "# Question 4\n",
    "\n",
    "Use the `get_cost()` function you defined in Question 3 to calculate the cost of applying one coat of paint to a room with:\n",
    "- 432 square feet of walls, and\n",
    "- 144 square feet of ceiling.\n",
    "\n",
    "Assume that one gallon of paint covers 400 square feet and costs $15.  As in Question 3, assume you can buy partial gallons of paint.  Do not round your answer."
   ]
  },
  {
   "cell_type": "code",
   "execution_count": 8,
   "id": "13afc951",
   "metadata": {
    "execution": {
     "iopub.execute_input": "2024-05-10T17:57:39.086314Z",
     "iopub.status.busy": "2024-05-10T17:57:39.085445Z",
     "iopub.status.idle": "2024-05-10T17:57:39.094270Z",
     "shell.execute_reply": "2024-05-10T17:57:39.093209Z"
    },
    "papermill": {
     "duration": 0.019861,
     "end_time": "2024-05-10T17:57:39.096451",
     "exception": false,
     "start_time": "2024-05-10T17:57:39.076590",
     "status": "completed"
    },
    "tags": []
   },
   "outputs": [
    {
     "data": {
      "application/javascript": [
       "parent.postMessage({\"jupyterEvent\": \"custom.exercise_interaction\", \"data\": {\"outcomeType\": 1, \"valueTowardsCompletion\": 0.2, \"interactionType\": 1, \"questionType\": 1, \"questionId\": \"4_GetCostPaintExample\", \"learnToolsVersion\": \"0.3.4\", \"failureMessage\": \"\", \"exceptionClass\": \"\", \"trace\": \"\"}}, \"*\")"
      ],
      "text/plain": [
       "<IPython.core.display.Javascript object>"
      ]
     },
     "metadata": {},
     "output_type": "display_data"
    },
    {
     "data": {
      "text/markdown": [
       "<span style=\"color:#33cc33\">Correct</span>"
      ],
      "text/plain": [
       "Correct"
      ]
     },
     "metadata": {},
     "output_type": "display_data"
    }
   ],
   "source": [
    "# TODO: Set the project_cost variable to the cost of the project\n",
    "project_cost = get_cost(432, 144, 400, 15)\n",
    "\n",
    "# Check your answer\n",
    "q4.check()"
   ]
  },
  {
   "cell_type": "code",
   "execution_count": 9,
   "id": "4e60567d",
   "metadata": {
    "execution": {
     "iopub.execute_input": "2024-05-10T17:57:39.114792Z",
     "iopub.status.busy": "2024-05-10T17:57:39.114383Z",
     "iopub.status.idle": "2024-05-10T17:57:39.126453Z",
     "shell.execute_reply": "2024-05-10T17:57:39.125282Z"
    },
    "papermill": {
     "duration": 0.023647,
     "end_time": "2024-05-10T17:57:39.128492",
     "exception": false,
     "start_time": "2024-05-10T17:57:39.104845",
     "status": "completed"
    },
    "tags": []
   },
   "outputs": [
    {
     "data": {
      "application/javascript": [
       "parent.postMessage({\"jupyterEvent\": \"custom.exercise_interaction\", \"data\": {\"interactionType\": 2, \"questionType\": 1, \"questionId\": \"4_GetCostPaintExample\", \"learnToolsVersion\": \"0.3.4\", \"valueTowardsCompletion\": 0.0, \"failureMessage\": \"\", \"exceptionClass\": \"\", \"trace\": \"\", \"outcomeType\": 4}}, \"*\")"
      ],
      "text/plain": [
       "<IPython.core.display.Javascript object>"
      ]
     },
     "metadata": {},
     "output_type": "display_data"
    },
    {
     "data": {
      "text/markdown": [
       "<span style=\"color:#3366cc\">Hint:</span> If we needed to instead calculate the cost of applying one coat of paint to a room with 800 square feet of walls and 160 square feet of ceiling, and one gallon of paint covered 300 square feet and cost $10, we would set `project_cost = get_cost(800, 160, 300, 10)`."
      ],
      "text/plain": [
       "Hint: If we needed to instead calculate the cost of applying one coat of paint to a room with 800 square feet of walls and 160 square feet of ceiling, and one gallon of paint covered 300 square feet and cost $10, we would set `project_cost = get_cost(800, 160, 300, 10)`."
      ]
     },
     "metadata": {},
     "output_type": "display_data"
    },
    {
     "data": {
      "application/javascript": [
       "parent.postMessage({\"jupyterEvent\": \"custom.exercise_interaction\", \"data\": {\"interactionType\": 3, \"questionType\": 1, \"questionId\": \"4_GetCostPaintExample\", \"learnToolsVersion\": \"0.3.4\", \"valueTowardsCompletion\": 0.0, \"failureMessage\": \"\", \"exceptionClass\": \"\", \"trace\": \"\", \"outcomeType\": 4}}, \"*\")"
      ],
      "text/plain": [
       "<IPython.core.display.Javascript object>"
      ]
     },
     "metadata": {},
     "output_type": "display_data"
    },
    {
     "data": {
      "text/markdown": [
       "<span style=\"color:#33cc99\">Solution:</span> \n",
       "```python\n",
       "# Set the project_cost variable to the cost of the project\n",
       "project_cost = get_cost(432, 144, 400, 15) \n",
       "\n",
       "```"
      ],
      "text/plain": [
       "Solution: \n",
       "```python\n",
       "# Set the project_cost variable to the cost of the project\n",
       "project_cost = get_cost(432, 144, 400, 15) \n",
       "\n",
       "```"
      ]
     },
     "metadata": {},
     "output_type": "display_data"
    }
   ],
   "source": [
    "# Uncomment to see a hint\n",
    "q4.hint()\n",
    "\n",
    "# Uncomment to view the solution\n",
    "q4.solution()"
   ]
  },
  {
   "cell_type": "markdown",
   "id": "f08fd6c0",
   "metadata": {
    "papermill": {
     "duration": 0.008123,
     "end_time": "2024-05-10T17:57:39.144960",
     "exception": false,
     "start_time": "2024-05-10T17:57:39.136837",
     "status": "completed"
    },
    "tags": []
   },
   "source": [
    "# 🌶️ Question 5\n",
    "\n",
    "Now say you can no longer buy fractions of a gallon.  (For instance, if you need 4.3 gallons to do a project, then you have to buy 5 gallons of paint.)\n",
    "\n",
    "With this new scenario, you will create a new function `get_actual_cost` that uses the same inputs and calculates the cost of your project.\n",
    "\n",
    "One function that you'll need to use to do this is `math.ceil()`.  We demonstrate usage of this function in the code cell below.  It takes as a number as input and rounds the number up to the nearest integer.  \n",
    "\n",
    "Run the next code cell to test this function for yourself.  Feel free to change the value of `test_value` and make sure `math.ceil()` returns the number you expect."
   ]
  },
  {
   "cell_type": "code",
   "execution_count": 10,
   "id": "d0898d56",
   "metadata": {
    "execution": {
     "iopub.execute_input": "2024-05-10T17:57:39.163713Z",
     "iopub.status.busy": "2024-05-10T17:57:39.162974Z",
     "iopub.status.idle": "2024-05-10T17:57:39.168425Z",
     "shell.execute_reply": "2024-05-10T17:57:39.167129Z"
    },
    "papermill": {
     "duration": 0.017461,
     "end_time": "2024-05-10T17:57:39.170744",
     "exception": false,
     "start_time": "2024-05-10T17:57:39.153283",
     "status": "completed"
    },
    "tags": []
   },
   "outputs": [
    {
     "name": "stdout",
     "output_type": "stream",
     "text": [
      "3\n"
     ]
    }
   ],
   "source": [
    "test_value = 2.17\n",
    "\n",
    "rounded_value = math.ceil(test_value)\n",
    "print(rounded_value)"
   ]
  },
  {
   "cell_type": "markdown",
   "id": "14e191c7",
   "metadata": {
    "papermill": {
     "duration": 0.00835,
     "end_time": "2024-05-10T17:57:39.187716",
     "exception": false,
     "start_time": "2024-05-10T17:57:39.179366",
     "status": "completed"
    },
    "tags": []
   },
   "source": [
    "Use the next code cell to define the function `get_actual_cost()`.  You'll need to use the `math.ceil()` function to do this.\n",
    "\n",
    "When answering this question, note that it's completely valid to define a function that makes use of another function.  For instance, we can define a function `round_up_and_divide_by_three` that makes use of the `math.ceil` function:\n",
    "```\n",
    "def round_up_and_divide_by_three(num):\n",
    "    new_value = math.ceil(num)\n",
    "    final_value = new_value / 3\n",
    "    return final_value\n",
    "```"
   ]
  },
  {
   "cell_type": "code",
   "execution_count": 11,
   "id": "5dab3631",
   "metadata": {
    "execution": {
     "iopub.execute_input": "2024-05-10T17:57:39.206422Z",
     "iopub.status.busy": "2024-05-10T17:57:39.206021Z",
     "iopub.status.idle": "2024-05-10T17:57:39.215313Z",
     "shell.execute_reply": "2024-05-10T17:57:39.214451Z"
    },
    "papermill": {
     "duration": 0.021156,
     "end_time": "2024-05-10T17:57:39.217383",
     "exception": false,
     "start_time": "2024-05-10T17:57:39.196227",
     "status": "completed"
    },
    "tags": []
   },
   "outputs": [
    {
     "data": {
      "application/javascript": [
       "parent.postMessage({\"jupyterEvent\": \"custom.exercise_interaction\", \"data\": {\"outcomeType\": 1, \"valueTowardsCompletion\": 0.2, \"interactionType\": 1, \"questionType\": 2, \"questionId\": \"5_NoMoreFractions\", \"learnToolsVersion\": \"0.3.4\", \"failureMessage\": \"\", \"exceptionClass\": \"\", \"trace\": \"\"}}, \"*\")"
      ],
      "text/plain": [
       "<IPython.core.display.Javascript object>"
      ]
     },
     "metadata": {},
     "output_type": "display_data"
    },
    {
     "data": {
      "text/markdown": [
       "<span style=\"color:#33cc33\">Correct</span>"
      ],
      "text/plain": [
       "Correct"
      ]
     },
     "metadata": {},
     "output_type": "display_data"
    }
   ],
   "source": [
    "def get_actual_cost(sqft_walls, sqft_ceiling, sqft_per_gallon, cost_per_gallon):\n",
    "    cost = math.ceil(get_cost(sqft_walls, sqft_ceiling, sqft_per_gallon, 1))\n",
    "    return cost * cost_per_gallon\n",
    "# Check your answer\n",
    "q5.check()"
   ]
  },
  {
   "cell_type": "code",
   "execution_count": 12,
   "id": "4ba9458c",
   "metadata": {
    "execution": {
     "iopub.execute_input": "2024-05-10T17:57:39.236640Z",
     "iopub.status.busy": "2024-05-10T17:57:39.236286Z",
     "iopub.status.idle": "2024-05-10T17:57:39.245765Z",
     "shell.execute_reply": "2024-05-10T17:57:39.244700Z"
    },
    "papermill": {
     "duration": 0.021907,
     "end_time": "2024-05-10T17:57:39.248047",
     "exception": false,
     "start_time": "2024-05-10T17:57:39.226140",
     "status": "completed"
    },
    "tags": []
   },
   "outputs": [
    {
     "data": {
      "application/javascript": [
       "parent.postMessage({\"jupyterEvent\": \"custom.exercise_interaction\", \"data\": {\"interactionType\": 2, \"questionType\": 2, \"questionId\": \"5_NoMoreFractions\", \"learnToolsVersion\": \"0.3.4\", \"valueTowardsCompletion\": 0.0, \"failureMessage\": \"\", \"exceptionClass\": \"\", \"trace\": \"\", \"outcomeType\": 4}}, \"*\")"
      ],
      "text/plain": [
       "<IPython.core.display.Javascript object>"
      ]
     },
     "metadata": {},
     "output_type": "display_data"
    },
    {
     "data": {
      "text/markdown": [
       "<span style=\"color:#3366cc\">Hint:</span> Begin with the `get_cost()` function as a starting point.  The only change you need to make is to add `math.ceil()` to round up the number of gallons that need to be purchased. Can you figure out where to add it to the function?"
      ],
      "text/plain": [
       "Hint: Begin with the `get_cost()` function as a starting point.  The only change you need to make is to add `math.ceil()` to round up the number of gallons that need to be purchased. Can you figure out where to add it to the function?"
      ]
     },
     "metadata": {},
     "output_type": "display_data"
    },
    {
     "data": {
      "application/javascript": [
       "parent.postMessage({\"jupyterEvent\": \"custom.exercise_interaction\", \"data\": {\"interactionType\": 3, \"questionType\": 2, \"questionId\": \"5_NoMoreFractions\", \"learnToolsVersion\": \"0.3.4\", \"valueTowardsCompletion\": 0.0, \"failureMessage\": \"\", \"exceptionClass\": \"\", \"trace\": \"\", \"outcomeType\": 4}}, \"*\")"
      ],
      "text/plain": [
       "<IPython.core.display.Javascript object>"
      ]
     },
     "metadata": {},
     "output_type": "display_data"
    },
    {
     "data": {
      "text/markdown": [
       "<span style=\"color:#33cc99\">Solution:</span> \n",
       "```python\n",
       "def get_actual_cost(sqft_walls, sqft_ceiling, sqft_per_gallon, cost_per_gallon):\n",
       "    total_sqft = sqft_walls + sqft_ceiling\n",
       "    gallons_needed = total_sqft / sqft_per_gallon\n",
       "    gallons_to_buy = math.ceil(gallons_needed)\n",
       "    cost = cost_per_gallon * gallons_to_buy\n",
       "    return cost\n",
       "\n",
       "```"
      ],
      "text/plain": [
       "Solution: \n",
       "```python\n",
       "def get_actual_cost(sqft_walls, sqft_ceiling, sqft_per_gallon, cost_per_gallon):\n",
       "    total_sqft = sqft_walls + sqft_ceiling\n",
       "    gallons_needed = total_sqft / sqft_per_gallon\n",
       "    gallons_to_buy = math.ceil(gallons_needed)\n",
       "    cost = cost_per_gallon * gallons_to_buy\n",
       "    return cost\n",
       "\n",
       "```"
      ]
     },
     "metadata": {},
     "output_type": "display_data"
    }
   ],
   "source": [
    "# Uncomment to see a hint\n",
    "q5.hint()\n",
    "\n",
    "# Uncomment to view the solution\n",
    "q5.solution()"
   ]
  },
  {
   "cell_type": "markdown",
   "id": "2ae9e26c",
   "metadata": {
    "papermill": {
     "duration": 0.009106,
     "end_time": "2024-05-10T17:57:39.267072",
     "exception": false,
     "start_time": "2024-05-10T17:57:39.257966",
     "status": "completed"
    },
    "tags": []
   },
   "source": [
    "Once your function is verified as correct, run the next code cell to calculate the updated cost of your project."
   ]
  },
  {
   "cell_type": "code",
   "execution_count": 13,
   "id": "a7da4ba5",
   "metadata": {
    "execution": {
     "iopub.execute_input": "2024-05-10T17:57:39.287157Z",
     "iopub.status.busy": "2024-05-10T17:57:39.286743Z",
     "iopub.status.idle": "2024-05-10T17:57:39.293419Z",
     "shell.execute_reply": "2024-05-10T17:57:39.292239Z"
    },
    "papermill": {
     "duration": 0.019323,
     "end_time": "2024-05-10T17:57:39.295649",
     "exception": false,
     "start_time": "2024-05-10T17:57:39.276326",
     "status": "completed"
    },
    "tags": []
   },
   "outputs": [
    {
     "data": {
      "text/plain": [
       "30"
      ]
     },
     "execution_count": 13,
     "metadata": {},
     "output_type": "execute_result"
    }
   ],
   "source": [
    "get_actual_cost(432, 144, 400, 15) "
   ]
  },
  {
   "cell_type": "markdown",
   "id": "4f079566",
   "metadata": {
    "papermill": {
     "duration": 0.009737,
     "end_time": "2024-05-10T17:57:39.315280",
     "exception": false,
     "start_time": "2024-05-10T17:57:39.305543",
     "status": "completed"
    },
    "tags": []
   },
   "source": [
    "Say you're working with a slightly larger room.  Run the next code cell to calculate the cost of the project."
   ]
  },
  {
   "cell_type": "code",
   "execution_count": 14,
   "id": "028f1d55",
   "metadata": {
    "execution": {
     "iopub.execute_input": "2024-05-10T17:57:39.336683Z",
     "iopub.status.busy": "2024-05-10T17:57:39.336060Z",
     "iopub.status.idle": "2024-05-10T17:57:39.342872Z",
     "shell.execute_reply": "2024-05-10T17:57:39.341724Z"
    },
    "papermill": {
     "duration": 0.020475,
     "end_time": "2024-05-10T17:57:39.345308",
     "exception": false,
     "start_time": "2024-05-10T17:57:39.324833",
     "status": "completed"
    },
    "tags": []
   },
   "outputs": [
    {
     "data": {
      "text/plain": [
       "45"
      ]
     },
     "execution_count": 14,
     "metadata": {},
     "output_type": "execute_result"
    }
   ],
   "source": [
    "get_actual_cost(594, 288, 400, 15) "
   ]
  },
  {
   "cell_type": "markdown",
   "id": "513e7c73",
   "metadata": {
    "papermill": {
     "duration": 0.009708,
     "end_time": "2024-05-10T17:57:39.364627",
     "exception": false,
     "start_time": "2024-05-10T17:57:39.354919",
     "status": "completed"
    },
    "tags": []
   },
   "source": [
    "# Keep going\n",
    "\n",
    "Continue to learn about **[data types](https://www.kaggle.com/alexisbcook/data-types)**."
   ]
  },
  {
   "cell_type": "markdown",
   "id": "2d4637be",
   "metadata": {
    "papermill": {
     "duration": 0.009881,
     "end_time": "2024-05-10T17:57:39.385771",
     "exception": false,
     "start_time": "2024-05-10T17:57:39.375890",
     "status": "completed"
    },
    "tags": []
   },
   "source": [
    "---\n",
    "\n",
    "\n",
    "\n",
    "\n",
    "*Have questions or comments? Visit the [course discussion forum](https://www.kaggle.com/learn/intro-to-programming/discussion) to chat with other learners.*"
   ]
  }
 ],
 "metadata": {
  "kaggle": {
   "accelerator": "none",
   "dataSources": [],
   "isGpuEnabled": false,
   "isInternetEnabled": false,
   "language": "python",
   "sourceType": "notebook"
  },
  "kernelspec": {
   "display_name": "Python 3",
   "language": "python",
   "name": "python3"
  },
  "language_info": {
   "codemirror_mode": {
    "name": "ipython",
    "version": 3
   },
   "file_extension": ".py",
   "mimetype": "text/x-python",
   "name": "python",
   "nbconvert_exporter": "python",
   "pygments_lexer": "ipython3",
   "version": "3.10.13"
  },
  "papermill": {
   "default_parameters": {},
   "duration": 4.963045,
   "end_time": "2024-05-10T17:57:39.916487",
   "environment_variables": {},
   "exception": null,
   "input_path": "__notebook__.ipynb",
   "output_path": "__notebook__.ipynb",
   "parameters": {},
   "start_time": "2024-05-10T17:57:34.953442",
   "version": "2.5.0"
  }
 },
 "nbformat": 4,
 "nbformat_minor": 5
}
